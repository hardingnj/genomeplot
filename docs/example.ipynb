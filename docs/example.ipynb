{
 "cells": [
  {
   "cell_type": "code",
   "execution_count": 1,
   "metadata": {},
   "outputs": [],
   "source": [
    "import genomeplot"
   ]
  },
  {
   "cell_type": "code",
   "execution_count": 4,
   "metadata": {},
   "outputs": [
    {
     "name": "stdout",
     "output_type": "stream",
     "text": [
      "no fasta storage dir specified, download will be required each time.\n",
      "Downloading from http://plasmodb.org/common/downloads/release-35/Pfalciparum3D7/fasta/data/PlasmoDB-35_Pfalciparum3D7_Genome.fasta to /tmp/tmpqau0z9lh/PlasmoDB-35_Pfalciparum3D7_Genome.fasta\n"
     ]
    },
    {
     "name": "stderr",
     "output_type": "stream",
     "text": [
      "100.0%    23168 / 23167 kb\n"
     ]
    }
   ],
   "source": [
    "#gf = genomeplot.anophelesgambiae.load()\n",
    "gf = genomeplot.plasmodiumfalciparum.load()"
   ]
  },
  {
   "cell_type": "code",
   "execution_count": 5,
   "metadata": {},
   "outputs": [],
   "source": [
    "gf.apply(genomeplot.util.noiseplot)"
   ]
  },
  {
   "cell_type": "code",
   "execution_count": null,
   "metadata": {},
   "outputs": [],
   "source": []
  }
 ],
 "metadata": {
  "kernelspec": {
   "display_name": "Python 3",
   "language": "python",
   "name": "python3"
  },
  "language_info": {
   "codemirror_mode": {
    "name": "ipython",
    "version": 3
   },
   "file_extension": ".py",
   "mimetype": "text/x-python",
   "name": "python",
   "nbconvert_exporter": "python",
   "pygments_lexer": "ipython3",
   "version": "3.6.4"
  }
 },
 "nbformat": 4,
 "nbformat_minor": 2
}
